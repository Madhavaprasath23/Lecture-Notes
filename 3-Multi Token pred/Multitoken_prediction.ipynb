{
  "cells": [
    {
      "cell_type": "code",
      "execution_count": null,
      "metadata": {
        "id": "mtqrxc4yOm92"
      },
      "outputs": [],
      "source": [
        "import torch\n",
        "import torch.nn as nn\n",
        "import torch.nn.functional as F\n",
        "import os\n",
        "try:\n",
        "  import einops\n",
        "  from einops import rearrange,reduce,repeat,einsum\n",
        "except ImportError:\n",
        "  os.system('pip install einops')\n",
        "  from einops import rearrange,reduce,repeat,einsum\n",
        "import math\n",
        "from torch.optim.lr_scheduler import CosineAnnealingWarmRestarts,CosineAnnealingLR\n",
        "from tqdm.notebook import tqdm"
      ]
    },
    {
      "cell_type": "code",
      "source": [
        "from google.colab import drive\n",
        "drive.mount('/content/drive')"
      ],
      "metadata": {
        "colab": {
          "base_uri": "https://localhost:8080/"
        },
        "id": "3TBilWEzIeIQ",
        "outputId": "1f78b0fd-520b-4670-aa2d-4e70ef2bea62"
      },
      "execution_count": null,
      "outputs": [
        {
          "output_type": "stream",
          "name": "stdout",
          "text": [
            "Drive already mounted at /content/drive; to attempt to forcibly remount, call drive.mount(\"/content/drive\", force_remount=True).\n"
          ]
        }
      ]
    },
    {
      "cell_type": "code",
      "execution_count": null,
      "metadata": {
        "id": "SB1poo7EiK2O"
      },
      "outputs": [],
      "source": [
        "class CLinear(nn.Module):\n",
        "  def __init__(self,input_dim,out_dim,bias=True):\n",
        "    super().__init__()\n",
        "    self.input_dim=input_dim\n",
        "    self.out_dim=out_dim\n",
        "    self.weights_1=nn.Parameter(torch.randn(size=(1,input_dim,1)))\n",
        "\n",
        "    self.weights_2=nn.Parameter(torch.randn(size=(out_dim,1,1)))\n",
        "    self.bias=nn.Parameter(torch.randn(size=(out_dim,))) if bias==True else None\n",
        "\n",
        "\n",
        "  def forward(self,x):\n",
        "\n",
        "    x=rearrange(tensor=x,pattern=\"B T D -> B D T\")\n",
        "\n",
        "    x=F.conv1d(input=x,weight=self.weights_1,bias=None,stride=1)\n",
        "\n",
        "    x= F.conv1d(input=x,weight=self.weights_2,bias=self.bias,stride=1)\n",
        "\n",
        "    x=rearrange(tensor=x,pattern=\"B D T -> B T D\")\n",
        "    return x\n",
        "\n",
        "def Sinusoidal_position_Emdedding(length=1024,d_model=768,learnable=False,device=\"cpu\"):\n",
        "    pe = torch.zeros(length, d_model)\n",
        "    position = torch.arange(0, length).unsqueeze(1)\n",
        "    div_term = torch.exp((torch.arange(0, d_model, 2, dtype=torch.float) *\n",
        "                         -(math.log(10000.0) / d_model)))\n",
        "    pe[:, 0::2] = torch.sin(position.float() * div_term)\n",
        "    pe[:, 1::2] = torch.cos(position.float() * div_term)\n",
        "\n",
        "    return nn.Parameter(pe).to(device) if learnable else pe.to(device)\n",
        "\n",
        "class Relative_position_embedding(nn.Module):\n",
        "\n",
        "  def __init__(self,head_dim,k,device):\n",
        "    super().__init__()\n",
        "    self.head_dim=head_dim\n",
        "    self.k=k\n",
        "\n",
        "    self.device=device\n",
        "    self.position=Sinusoidal_position_Emdedding(self.k*2+1,head_dim,learnable=False,device=self.device)\n",
        "\n",
        "  def forward(self,q_len,k_len):\n",
        "    vec_q=torch.arange(q_len)\n",
        "    vec_k=torch.arange(k_len)\n",
        "    distance_mat= vec_k[None,:] - vec_q[:,None]\n",
        "    clipped_distance=torch.clamp(distance_mat,-self.k,self.k)\n",
        "    final_mat= clipped_distance + self.k\n",
        "    final_mat = torch.LongTensor(final_mat).to(self.device)\n",
        "    embeddings=self.position[final_mat].to(self.device)\n",
        "\n",
        "    return embeddings\n",
        "\n",
        "\n",
        "def gqa(query,key,value,group,num_head,dropout=0.):\n",
        "\n",
        "  scale=query.size(-1)**0.5\n",
        "\n",
        "  query=query/scale\n",
        "\n",
        "  b,hq,t,d=query.shape\n",
        "  b,hk,s,d=key.shape\n",
        "\n",
        "  num_head_groups= num_head//group\n",
        "\n",
        "\n",
        "  query=rearrange(query,\"b (h g) n d -> b g h n d\",g=num_head_groups)\n",
        "\n",
        "  attn=einsum(query, key, \"b g h n d,b h s d -> b g h n s\")\n",
        "\n",
        "  mask=torch.ones((b,t,s),device=query.device,dtype=torch.bool).tril_()\n",
        "\n",
        "  if mask is not None:\n",
        "    if mask.ndim == 2:\n",
        "        mask = rearrange(mask, \"b s -> b () () () s\")\n",
        "    elif mask.ndim == 3:\n",
        "        mask = rearrange(mask, \"b n s -> b () () n s\")\n",
        "\n",
        "  attn.masked_fill_(~mask,torch.finfo(attn.dtype).min)\n",
        "  attn=F.softmax(attn,dim=-1)\n",
        "\n",
        "  attn=F.dropout(attn,p=dropout)\n",
        "\n",
        "  attn=einsum(attn,value,\"b g h t s, b h s d -> b g h t d\")\n",
        "  attn=rearrange(attn,\"b g h t d -> b (g h) t d\")\n",
        "\n",
        "  return attn\n",
        "\n",
        "\n",
        "\n",
        "class MultiAttention(nn.Module):\n",
        "  def __init__(self,mode=\"MHA\",group=2,attention_dropout=0.,num_heads=4,dim=768,device=\"cuda\",relative_pos=False):\n",
        "    super().__init__()\n",
        "    assert dim%num_heads==0 and num_heads%group==0\n",
        "    self.num_heads=num_heads\n",
        "    self.dim=dim\n",
        "    self.device=device\n",
        "\n",
        "    self.query=nn.Linear(dim,dim)\n",
        "\n",
        "    self.k=50\n",
        "\n",
        "    self.mode=mode\n",
        "\n",
        "    self.group=num_heads if mode==\"MHA\" else 1 if mode==\"MQA\" else group\n",
        "\n",
        "    self.key= nn.Linear(dim,(dim//num_heads)*self.group)\n",
        "\n",
        "    self.value=nn.Linear(dim,(dim//num_heads)*self.group)\n",
        "\n",
        "\n",
        "    self.relative_position_k=Relative_position_embedding(self.dim//self.num_heads,self.k,self.device)\n",
        "    self.relative_position_v= Relative_position_embedding(self.dim//self.num_heads,self.k,self.device)\n",
        "    self.relative_pos=relative_pos\n",
        "    self.attention_dropout=attention_dropout\n",
        "    self.out=nn.Linear(dim,dim)\n",
        "\n",
        "  def forward(self,x):\n",
        "\n",
        "    query=rearrange(self.query(x),\"b t (h d) -> b h t d\",h=self.num_heads)\n",
        "    key=rearrange(self.key(x),\"b s (h d) -> b h s d\",h=self.group)\n",
        "    value=rearrange(self.value(x),\"b s (h d) -> b h s d\",h=self.group)\n",
        "    if self.group==1:\n",
        "      self.mode=\"MQA\"\n",
        "\n",
        "    if self.mode==\"GQA\":\n",
        "      attn1=gqa(query,key,value,num_head=self.num_heads,group=self.group)\n",
        "\n",
        "    elif self.mode==\"MQA\":\n",
        "      assert self.group==1\n",
        "      attn1=gqa(query,key,value,num_head=self.num_heads,group=self.group)\n",
        "    else:\n",
        "      attn1=F.scaled_dot_product_attention(query,key,value,dropout_p=self.attention_dropout,is_causal=True)\n",
        "\n",
        "    \"\"\"Relational Positional embedding\"\"\"\n",
        "    if self.relative_pos:\n",
        "      len_q=query.shape[2]\n",
        "      len_k=key.shape[2]\n",
        "      len_v=value.shape[2]\n",
        "\n",
        "      relative_positionk=self.relative_position_k(len_q,len_k)\n",
        "      relative_positionv=self.relative_position_v(len_q,len_v)\n",
        "\n",
        "\n",
        "\n",
        "    if self.relative_pos:\n",
        "      r_q=rearrange(tensor=query,pattern='B N T D -> T (B N) D')\n",
        "      attn2=(r_q@relative_positionk.transpose(1,2)).transpose(0,1)\n",
        "      attn2=rearrange(tensor=attn2,pattern=\"(B N) Q K -> B N Q K\",N=self.num_heads)\n",
        "      mask=torch.ones((len_q,len_k),device=query.device,dtype=torch.bool).tril_()\n",
        "\n",
        "      attn2=attn2.masked_fill(mask[:len_q,:len_k]==0,float('-inf'))\n",
        "\n",
        "      scale=(self.dim//self.num_heads)**-0.5\n",
        "      attn2=attn2*scale\n",
        "      attn2=F.softmax(attn2,dim=-1)\n",
        "      attn2=rearrange(tensor=attn2,pattern=\"B N Q K -> Q (B N) K\")\n",
        "      attn2=(attn2@relative_positionv).transpose(0,1)\n",
        "      attn2=rearrange(tensor=attn2,pattern=\"(B N) Q D -> B N Q D\",N=self.num_heads)\n",
        "\n",
        "      attn2=F.dropout(attn2,p=self.attention_dropout)\n",
        "\n",
        "      attn = attn1 + attn2\n",
        "    else:\n",
        "      attn=attn1\n",
        "\n",
        "    attn=rearrange(tensor=attn,pattern=\"B N T D-> B T (D N)\",N=self.num_heads)\n",
        "\n",
        "    a=self.out(attn)\n",
        "    return a\n",
        "\n",
        "class SHA(nn.Module):\n",
        "  def __init__(self,dim,attention_dropout):\n",
        "    super().__init__()\n",
        "\n",
        "    self.qkv=nn.Linear(dim,dim*3)\n",
        "    self.attention_dropout=attention_dropout\n",
        "\n",
        "  def forward(self,x):\n",
        "    qkv=self.qkv(x)\n",
        "    qkv=rearrange(tensor=qkv,pattern=\"B T (D N) ->  N B T D\",N=3)\n",
        "    q,k,v=qkv[0],qkv[1],qkv[2]\n",
        "\n",
        "    return F.scaled_dot_product_attention(q,k,v,dropout_p=self.attention_dropout,is_causal=True)\n",
        "\n",
        "\n",
        "class MLP(nn.Module):\n",
        "  def __init__(self,input_dim,out_dim):\n",
        "    super().__init__()\n",
        "    self.input_dim=input_dim\n",
        "    self.out_dim=out_dim\n",
        "    self.act=nn.GELU()\n",
        "\n",
        "    self.mlp=nn.Sequential(\n",
        "      nn.Linear(input_dim,out_dim*4),\n",
        "      nn.GELU(),\n",
        "      nn.Linear(out_dim*4,out_dim)\n",
        "    )\n",
        "\n",
        "  def forward(self,x):\n",
        "    return self.mlp(x)"
      ]
    },
    {
      "cell_type": "code",
      "execution_count": null,
      "metadata": {
        "id": "f8HoU7ZzEpQS"
      },
      "outputs": [],
      "source": [
        "def Sinusoidal_position_Emdedding(length=1024,d_model=768,learnable=False,device=\"cuda\"):\n",
        "    pe = torch.zeros(length, d_model)\n",
        "    position = torch.arange(0, length).unsqueeze(1)\n",
        "    div_term = torch.exp((torch.arange(0, d_model, 2, dtype=torch.float) *\n",
        "                         -(math.log(10000.0) / d_model)))\n",
        "    pe[:, 0::2] = torch.sin(position.float() * div_term)\n",
        "    pe[:, 1::2] = torch.cos(position.float() * div_term)\n",
        "    pe=pe.to(device)\n",
        "    return nn.Parameter(pe) if learnable else pe"
      ]
    },
    {
      "cell_type": "code",
      "execution_count": null,
      "metadata": {
        "id": "axrPQsjQJPgp"
      },
      "outputs": [],
      "source": [
        "class Prediction_heads(nn.Module):\n",
        "  def __init__(self,dim,attention_dropout=0.0,n_tokens=2):\n",
        "    super().__init__()\n",
        "    self.independent_heads=nn.ModuleList(\n",
        "        [SHA(dim=dim,attention_dropout=attention_dropout) for _ in range(n_tokens)]\n",
        "    )\n",
        "  def __call__(self):\n",
        "    return self.independent_heads\n"
      ]
    },
    {
      "cell_type": "markdown",
      "metadata": {
        "id": "HjB31QVe8DgV"
      },
      "source": [
        "![image-12.webp](data:image/webp;base64,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)"
      ]
    },
    {
      "cell_type": "code",
      "execution_count": null,
      "metadata": {
        "id": "18gRgXsyZAVd"
      },
      "outputs": [],
      "source": [
        "class ResiDual(nn.Module):\n",
        "  def __init__(self,dim,net):\n",
        "    super().__init__()\n",
        "    self.dim=dim\n",
        "    self.net=net\n",
        "    self.ln1=nn.LayerNorm(dim)\n",
        "    self.ln2=nn.LayerNorm(dim)\n",
        "  def forward(self,xln,xd=None):\n",
        "    xnet=self.net(xln)\n",
        "\n",
        "    if xd!=None:\n",
        "      xd=xd+xnet\n",
        "    else:\n",
        "      xd=xnet\n",
        "\n",
        "    xln=xln+xnet\n",
        "\n",
        "    xln=self.ln1(xln)\n",
        "    xd=self.ln2(xd)\n",
        "\n",
        "    return xln+xd,xd"
      ]
    },
    {
      "cell_type": "code",
      "execution_count": null,
      "metadata": {
        "id": "937IXate9uSg"
      },
      "outputs": [],
      "source": [
        "class Block(nn.Module):\n",
        "  def __init__(self,mode=\"GQA\",group=2,n_heads=4,attention_dropout=0,dim=1024,relative_pe=False,device=\"cuda\"):\n",
        "    super().__init__()\n",
        "    self.dim=dim\n",
        "    self.n_heads=n_heads\n",
        "    self.layer_norm1=nn.LayerNorm(dim)\n",
        "    self.layer_norm2=nn.LayerNorm(dim)\n",
        "    self.attn=MultiAttention(mode=mode,group=group,num_heads=n_heads,dim=dim,attention_dropout=attention_dropout,relative_pos=relative_pe,device=device)\n",
        "    self.mlp=MLP(dim,dim)\n",
        "\n",
        "  def forward(self,x):\n",
        "    x=x+self.attn(self.layer_norm1(x))\n",
        "    x=x+self.mlp(self.layer_norm2(x))\n",
        "\n",
        "    return x"
      ]
    },
    {
      "cell_type": "code",
      "execution_count": null,
      "metadata": {
        "id": "E7qx-sqpSBXt"
      },
      "outputs": [],
      "source": [
        "class LLM_Maybe(nn.Module):\n",
        "  def __init__(self,embedding_dimensions,embedding_layer,n_tokens=2,n_layers=8,mode=\"MHA\",group=2,attention_dropout=0.,num_heads=4,dim=768,device=\"cuda\"):\n",
        "\n",
        "    super().__init__()\n",
        "    self.dim=dim\n",
        "    self.n_layers=n_layers\n",
        "    self.num_heads=num_heads\n",
        "    self.n_tokens=n_tokens\n",
        "    self.embedding_dimensions=embedding_dimensions\n",
        "    self.embed_layer=embedding_layer.to(device)\n",
        "    self.device=device\n",
        "\n",
        "    self.blocks=nn.ModuleList([\n",
        "        Block(mode=mode,group=group,n_heads=num_heads,attention_dropout=0.,dim=dim) for _ in range(self.n_layers)\n",
        "    ])\n",
        "\n",
        "    self.independent_heads=nn.ModuleList(\n",
        "        [SHA(dim=dim,attention_dropout=attention_dropout) for _ in range(n_tokens)]\n",
        "    )\n",
        "\n",
        "    self.un_embed_layer=nn.Linear(self.dim,embedding_dimensions,bias=False)\n",
        "    self.embed_layer.weight=self.un_embed_layer.weight\n",
        "\n",
        "    self.embed_layer.weight.data_ptr=self.un_embed_layer.weight.data_ptr\n",
        "\n",
        "    for i in self.embed_layer.parameters():\n",
        "      i.requires_grad=False\n",
        "\n",
        "    #self.un_embed_layer.requires_grad=False\n",
        "    self.apply(self._init_weights)\n",
        "\n",
        "  def _init_weights(self, module):\n",
        "        if isinstance(module, nn.Linear):\n",
        "            std = 0.02\n",
        "            std*=(2*self.n_layers) ** -0.5\n",
        "            torch.nn.init.normal_(module.weight, mean=0.0, std=std)\n",
        "            if module.bias is not None:\n",
        "                torch.nn.init.zeros_(module.bias)\n",
        "        elif isinstance(module,CLinear):\n",
        "            std = 0.02\n",
        "            std*=(2 * self.n_layers) ** -0.5\n",
        "            torch.nn.init.normal_(module.weights_1, mean=0.0, std=std)\n",
        "            torch.nn.init.normal_(module.weights_1, mean=0.0, std=std)\n",
        "            if module.bias is not None:\n",
        "                torch.nn.init.zeros_(module.bias)\n",
        "        \"\"\"elif isinstance(module, nn.Embedding):\n",
        "            torch.nn.init.normal_(module.weight, mean=0.0, std=0.02)\"\"\"\n",
        "\n",
        "  def forward_trunk(self,x):\n",
        "    x=self.embed_layer(x)\n",
        "\n",
        "    B,T,D=x.shape\n",
        "\n",
        "    x_pos=Sinusoidal_position_Emdedding(T,d_model=1024,device=self.device)\n",
        "\n",
        "    x = x + x_pos\n",
        "    y=x\n",
        "    for i in range(self.n_layers):\n",
        "      y=self.blocks[i](y)\n",
        "\n",
        "\n",
        "    return y\n",
        "\n",
        "\n",
        "\n",
        "  def fpass_independent_heads(self,head,x,y):\n",
        "    #B T D=X, B T V=p B T=Y\n",
        "\n",
        "    p=self.independent_heads[head](x)\n",
        "    p=self.un_embed_layer(p)\n",
        "\n",
        "    B,T,V=p.shape\n",
        "    return p,F.cross_entropy(p.view(-1,V),y.view(-1,))\n",
        "\n",
        "  def infer_independent_heads(self,x):\n",
        "    for head in range(self.n_tokens):\n",
        "      if head==0:\n",
        "        logits=self.independent_heads[head](x)[:,-1,:]\n",
        "        tokens=torch.argmax(logits,dim=-1)\n",
        "        tokens=tokens.unsqueeze(0)\n",
        "      else:\n",
        "        current_logit=self.independent_heads[head](x)[:,-1,:]\n",
        "        current_tokens=torch.argmax(current_logit,dim=-1)\n",
        "        current_tokens=current_tokens.unsqueeze(0)\n",
        "        print(logits.shape,current_logit.shape,current_tokens.shape,tokens.shape)\n",
        "        logits=torch.stack([logits,current_logit],dim=1) # B N D\n",
        "        tokens=torch.cat([tokens,current_tokens],dim=-1) # B T+N\n",
        "\n",
        "    return tokens,logits\n",
        "\n",
        "\n",
        "\n",
        "  def forward(self,x):\n",
        "    z=self.forward_trunk(x)\n",
        "    d=z.detach()\n",
        "    d.requires_grad=True\n",
        "    return d,z\n",
        "\n",
        "\n",
        "  #Evaluvate after backprop\n",
        "  def greedy_self_speculative_sampling(self,x,length,device):\n",
        "    T=length\n",
        "    n=0\n",
        "    while n<T:\n",
        "      with torch.autocast(device_type=device,dtype=torch.bfloat16):\n",
        "            logits,_=self.forward(x)\n",
        "\n",
        "      #predict n_tokens\n",
        "      tokens,logits=self.infer_independent_heads(logits)\n",
        "      print(tokens.shape,\"logits\",logits.shape)\n",
        "      #verify on with first head\n",
        "      predict=self.independent_heads[0](\n",
        "          torch.cat([x,tokens],dim=-1)\n",
        "          )\n",
        "\n",
        "      first_head_logits = self.un_embed_layer(predict)\n",
        "      first_head_logits = first_head_logits[:,-len(tokens):,:]\n",
        "\n",
        "      predict_token  = first_head_logits.argmax(dim=-1)\n",
        "      final_accepted = tuple((tokens==predict_token).nonzero()[-1])\n",
        "      _,accepted_tokens=final_accepted\n",
        "\n",
        "      x=torch.cat([x,tokens[:final_accepted.item()]],dim=1)\n",
        "      n+=len(tokens[:final_accepted.item()])\n",
        "\n",
        "    return x\n",
        "\n",
        "  def sampling_on_one_head(self,x,length,top_k=5,device=\"cuda\"):\n",
        "    with torch.no_grad():\n",
        "      for i in range(length):\n",
        "        with torch.autocast(device_type=device,dtype=torch.bfloat16):\n",
        "            logits,_=model(x)\n",
        "\n",
        "        logits=self.independent_heads[0](logits)\n",
        "        logits = self.un_embed_layer(logits)\n",
        "        probs=torch.nn.functional.softmax(logits[:,-1,:],dim=-1)\n",
        "\n",
        "        topk_values,topk_indices = torch.topk(probs,5,dim=-1)\n",
        "        topk_values=topk_values.squeeze(0)\n",
        "        topk_indices=topk_indices.squeeze(0)\n",
        "\n",
        "        ix=torch.multinomial(topk_values,1)\n",
        "\n",
        "        xcol=torch.gather(topk_indices,-1,ix)\n",
        "\n",
        "        xcol=xcol.unsqueeze(0)\n",
        "        x=torch.cat([x,xcol],dim=1)\n",
        "      return x"
      ]
    },
    {
      "cell_type": "markdown",
      "metadata": {
        "id": "d1lSDV-rzbES"
      },
      "source": [
        "## Copying Tokenizer and Embedding Layers :) from Indic BART because you can extend this same model to pretrain on Multilingual corpus Easily and embedding Layer takes significant ammount of parameter by just copying and freezing I could get better representation (than random init) for free. Always better to do your own embedding layer and tokenizer but we are speaking of fitting the entire model in T4 GPU"
      ]
    },
    {
      "cell_type": "code",
      "execution_count": null,
      "metadata": {
        "colab": {
          "base_uri": "https://localhost:8080/"
        },
        "id": "AgW5R9_gkLgP",
        "outputId": "6e1f277b-8f15-45f6-8210-1cb4c7d5c9d6"
      },
      "outputs": [
        {
          "output_type": "stream",
          "name": "stderr",
          "text": [
            "/usr/local/lib/python3.10/dist-packages/huggingface_hub/utils/_token.py:89: UserWarning: \n",
            "The secret `HF_TOKEN` does not exist in your Colab secrets.\n",
            "To authenticate with the Hugging Face Hub, create a token in your settings tab (https://huggingface.co/settings/tokens), set it as secret in your Google Colab and restart your session.\n",
            "You will be able to reuse this secret in all of your notebooks.\n",
            "Please note that authentication is recommended but still optional to access public models or datasets.\n",
            "  warnings.warn(\n",
            "Special tokens have been added in the vocabulary, make sure the associated word embeddings are fine-tuned or trained.\n"
          ]
        }
      ],
      "source": [
        "from transformers import AlbertTokenizer, MBartForConditionalGeneration\n",
        "\n",
        "tokenizer = AlbertTokenizer.from_pretrained(\"ai4bharat/IndicBART\", do_lower_case=False, use_fast=False, keep_accents=True)\n",
        "\n",
        "model = MBartForConditionalGeneration.from_pretrained(\"ai4bharat/IndicBART\")"
      ]
    },
    {
      "cell_type": "code",
      "execution_count": null,
      "metadata": {
        "id": "rmDWsoj09tWi"
      },
      "outputs": [],
      "source": [
        "embedding_layer=model.model.encoder.embed_tokens\n",
        "embedding_dimension,transformer_dimension=embedding_layer.weight.shape"
      ]
    },
    {
      "cell_type": "code",
      "source": [
        "model=LLM_Maybe(embedding_layer=embedding_layer,embedding_dimensions=embedding_dimension,n_layers=3,dim=transformer_dimension,mode=\"GQA\",num_heads=16,group=2,n_tokens=2,device='cuda')\n",
        "model=model.cuda()"
      ],
      "metadata": {
        "id": "4hf56g-Sj0wx"
      },
      "execution_count": null,
      "outputs": []
    },
    {
      "cell_type": "code",
      "execution_count": null,
      "metadata": {
        "id": "4L4a1e03FCDD",
        "colab": {
          "base_uri": "https://localhost:8080/"
        },
        "outputId": "637159bb-b062-4ed8-ba18-edce1731f0ad"
      },
      "outputs": [
        {
          "output_type": "execute_result",
          "data": {
            "text/plain": [
              "38575872"
            ]
          },
          "metadata": {},
          "execution_count": 12
        }
      ],
      "source": [
        "total_parameters=sum([i.numel() for i in model.parameters() if i.requires_grad ])\n",
        "total_parameters"
      ]
    },
    {
      "cell_type": "code",
      "execution_count": null,
      "metadata": {
        "id": "MBhgs3jzPdLw",
        "colab": {
          "base_uri": "https://localhost:8080/"
        },
        "outputId": "2dd82735-b4a4-4122-d063-e0969d2e677a"
      },
      "outputs": [
        {
          "output_type": "stream",
          "name": "stdout",
          "text": [
            "fatal: destination path 'ponniyin-selvan-' already exists and is not an empty directory.\n"
          ]
        }
      ],
      "source": [
        "!git clone https://github.com/rahulvks/ponniyin-selvan-"
      ]
    },
    {
      "cell_type": "code",
      "execution_count": null,
      "metadata": {
        "id": "wV_33VfaP9JP",
        "colab": {
          "base_uri": "https://localhost:8080/"
        },
        "outputId": "91c610b5-2ec3-432c-d686-c7806e4a964c"
      },
      "outputs": [
        {
          "output_type": "stream",
          "name": "stderr",
          "text": [
            "Special tokens have been added in the vocabulary, make sure the associated word embeddings are fine-tuned or trained.\n"
          ]
        }
      ],
      "source": [
        "from transformers import AlbertTokenizer\n",
        "\n",
        "tokenizer = AlbertTokenizer.from_pretrained(\"ai4bharat/IndicBART\", do_lower_case=False, use_fast=False, keep_accents=True)"
      ]
    },
    {
      "cell_type": "code",
      "execution_count": null,
      "metadata": {
        "id": "L9P3rLZ4P6EQ"
      },
      "outputs": [],
      "source": [
        "import os\n",
        "import glob\n",
        "import numpy as np\n",
        "import pickle\n",
        "from tqdm.notebook import tqdm\n",
        "def sorted_value(x):\n",
        "  return float(x.split('/')[-2].split('-')[-1]),int(x.split('/')[-1].split('_')[-1].split('.')[0])\n",
        "text_files = sorted(glob.glob('/content/ponniyin-selvan-/**/*.txt'),key=sorted_value)\n",
        "total_corpus=''\n",
        "numpy_tokens=[]\n",
        "for file in text_files:\n",
        "  with open(file,'r') as f:\n",
        "    words=f.readline()\n",
        "    words=words.split(' ')[3:]\n",
        "    current_word= ' '.join(words)\n",
        "    arr=tokenizer(current_word,add_special_tokens=False).input_ids\n",
        "    numpy_tokens=arr if numpy_tokens==[] else numpy_tokens+arr\n",
        "\n",
        "numpy_tokens=np.array(numpy_tokens,dtype=np.int32)\n",
        "with open('tokens.npy','wb') as f:\n",
        "  np.save(f,numpy_tokens)"
      ]
    },
    {
      "cell_type": "code",
      "execution_count": null,
      "metadata": {
        "id": "uEDLa2shQ7Zn"
      },
      "outputs": [],
      "source": [
        "with open('tokens.npy','rb') as f:\n",
        "   corpus_tokenized=np.load(f)"
      ]
    },
    {
      "cell_type": "code",
      "execution_count": null,
      "metadata": {
        "id": "q9-Gl2q7R3CQ"
      },
      "outputs": [],
      "source": [
        "class Dataset():\n",
        "  def __init__(self,B,T,n_tokens,corpus_tokenized):\n",
        "    self.B=B\n",
        "    self.T=T\n",
        "    self.corpus=corpus_tokenized\n",
        "    self.pointer=0\n",
        "    self.n_tokens=n_tokens\n",
        "    self.total_iterations= corpus_tokenized.shape[0]//((B*T) + self.n_tokens)\n",
        "  def get_batch(self):\n",
        "    buffer=self.corpus[self.pointer:self.pointer+(self.B*self.T)+self.n_tokens]\n",
        "\n",
        "    self.pointer+=(self.B*self.T)+self.n_tokens\n",
        "\n",
        "    if self.pointer + (self.B*self.T)+self.n_tokens >=self.corpus.shape[0]:\n",
        "      self.pointer=0\n",
        "      print(\"fin starting over\")\n",
        "    return torch.tensor(buffer,dtype=torch.long)"
      ]
    },
    {
      "cell_type": "code",
      "execution_count": null,
      "metadata": {
        "colab": {
          "base_uri": "https://localhost:8080/"
        },
        "id": "Txs3ciY7tKDY",
        "outputId": "c1926c98-9ce6-4e9b-a0f0-d7798f74be20"
      },
      "outputs": [
        {
          "output_type": "execute_result",
          "data": {
            "text/plain": [
              "3647424"
            ]
          },
          "metadata": {},
          "execution_count": 18
        }
      ],
      "source": [
        "len(corpus_tokenized)"
      ]
    },
    {
      "cell_type": "code",
      "execution_count": null,
      "metadata": {
        "id": "e5qsQtgEaAEw"
      },
      "outputs": [],
      "source": [
        "#Sanity check where all trains correctly\n",
        "B=8\n",
        "T=256\n",
        "n_tokens=2\n",
        "train_loader=Dataset(B=B,T=T,n_tokens=2,corpus_tokenized=corpus_tokenized)"
      ]
    },
    {
      "cell_type": "code",
      "execution_count": null,
      "metadata": {
        "id": "sZ8is1Ckj4MT"
      },
      "outputs": [],
      "source": [
        "optimizer=torch.optim.AdamW(model.parameters(),1*10e-3,betas=(0.9,0.95),weight_decay=0.01)"
      ]
    },
    {
      "cell_type": "code",
      "execution_count": null,
      "metadata": {
        "colab": {
          "base_uri": "https://localhost:8080/"
        },
        "id": "H8a4eIUXGL1Y",
        "outputId": "05a98f70-9c84-4f43-d17c-6fbd1a622c35"
      },
      "outputs": [
        {
          "output_type": "stream",
          "name": "stdout",
          "text": [
            "embed_layer.weight\n",
            "blocks.0.layer_norm1.weight\n",
            "blocks.0.layer_norm1.bias\n",
            "blocks.0.layer_norm2.weight\n",
            "blocks.0.layer_norm2.bias\n",
            "blocks.0.attn.query.weight\n",
            "blocks.0.attn.query.bias\n",
            "blocks.0.attn.key.weight\n",
            "blocks.0.attn.key.bias\n",
            "blocks.0.attn.value.weight\n",
            "blocks.0.attn.value.bias\n",
            "blocks.0.attn.out.weight\n",
            "blocks.0.attn.out.bias\n",
            "blocks.0.mlp.mlp.0.weight\n",
            "blocks.0.mlp.mlp.0.bias\n",
            "blocks.0.mlp.mlp.2.weight\n",
            "blocks.0.mlp.mlp.2.bias\n",
            "blocks.1.layer_norm1.weight\n",
            "blocks.1.layer_norm1.bias\n",
            "blocks.1.layer_norm2.weight\n",
            "blocks.1.layer_norm2.bias\n",
            "blocks.1.attn.query.weight\n",
            "blocks.1.attn.query.bias\n",
            "blocks.1.attn.key.weight\n",
            "blocks.1.attn.key.bias\n",
            "blocks.1.attn.value.weight\n",
            "blocks.1.attn.value.bias\n",
            "blocks.1.attn.out.weight\n",
            "blocks.1.attn.out.bias\n",
            "blocks.1.mlp.mlp.0.weight\n",
            "blocks.1.mlp.mlp.0.bias\n",
            "blocks.1.mlp.mlp.2.weight\n",
            "blocks.1.mlp.mlp.2.bias\n",
            "blocks.2.layer_norm1.weight\n",
            "blocks.2.layer_norm1.bias\n",
            "blocks.2.layer_norm2.weight\n",
            "blocks.2.layer_norm2.bias\n",
            "blocks.2.attn.query.weight\n",
            "blocks.2.attn.query.bias\n",
            "blocks.2.attn.key.weight\n",
            "blocks.2.attn.key.bias\n",
            "blocks.2.attn.value.weight\n",
            "blocks.2.attn.value.bias\n",
            "blocks.2.attn.out.weight\n",
            "blocks.2.attn.out.bias\n",
            "blocks.2.mlp.mlp.0.weight\n",
            "blocks.2.mlp.mlp.0.bias\n",
            "blocks.2.mlp.mlp.2.weight\n",
            "blocks.2.mlp.mlp.2.bias\n",
            "independent_heads.0.qkv.weight\n",
            "independent_heads.0.qkv.bias\n",
            "independent_heads.1.qkv.weight\n",
            "independent_heads.1.qkv.bias\n"
          ]
        }
      ],
      "source": [
        "for name,value in model.named_parameters():\n",
        "  print(name)"
      ]
    },
    {
      "cell_type": "code",
      "execution_count": null,
      "metadata": {
        "id": "CjueVVfTx7vA"
      },
      "outputs": [],
      "source": [
        "log=[]\n",
        "def train_loop(model,optimizer,train_loader,n_tokens,device,total_epochs=1):\n",
        "    losses=[]\n",
        "    epochs=0\n",
        "    total_iterations=train_loader.total_iterations\n",
        "    print(f\"\"\"Total Iterations of this thing is {total_iterations}\"\"\")\n",
        "    current_loss=[]\n",
        "    for i in range(total_epochs):\n",
        "      head_loss=[0,0]\n",
        "      for current_iter in tqdm(range(total_iterations)):\n",
        "        buffer=train_loader.get_batch()\n",
        "        x=buffer[0:(B*T)]\n",
        "        x=x.view(B,T).cuda()\n",
        "        accumulation_steps = 100\n",
        "        lr=1e-4\n",
        "        for param_group in optimizer.param_groups:\n",
        "          param_group['lr'] = lr\n",
        "        with torch.autocast(device_type=device,dtype=torch.bfloat16):\n",
        "          d,z=model(x)\n",
        "        for i in range(n_tokens):\n",
        "          y=buffer[(i+1):(B*T)+(i+1)]\n",
        "          y=y.view(B,T).cuda()\n",
        "          with torch.autocast(device_type=device,dtype=torch.bfloat16):\n",
        "            logits,loss=model.fpass_independent_heads(i,d,y)\n",
        "            loss= loss / accumulation_steps\n",
        "          loss.backward()\n",
        "          current_loss.append(loss.item())\n",
        "\n",
        "        z.backward(gradient=d.grad)\n",
        "\n",
        "        if (current_iter+1)%accumulation_steps==0 or (current_iter+1)==total_iterations:\n",
        "\n",
        "\n",
        "          print(\"Doing Gradient Decent\")\n",
        "          norm=torch.nn.utils.clip_grad_norm_(model.parameters(),max_norm=1.0)\n",
        "          optimizer.step()\n",
        "          print(f\"Loss Head1: {current_loss[-1]}, Head2:{current_loss[-2]} Iteration: {current_iter}\")\n",
        "\n",
        "          print(\"NORM and Grad accum \")\n",
        "\n",
        "          optimizer.zero_grad()\n",
        "          \"\"\"Just making sure the parameters 0 because am paranoid weather it would zero the parameters\"\"\"\n",
        "          for i in model.parameters():\n",
        "            i.grad=None\n",
        "          \"\"\"Write log with indpendent heads as 0\"\"\"\n",
        "        losses.append(current_loss)\n",
        "        current_loss=[]\n",
        "    return losses\n",
        "\n"
      ]
    },
    {
      "cell_type": "markdown",
      "metadata": {
        "id": "a5E2F00NpX6r"
      },
      "source": [
        "## TODO Put Gradient Accumulation logic"
      ]
    },
    {
      "cell_type": "code",
      "execution_count": null,
      "metadata": {
        "colab": {
          "base_uri": "https://localhost:8080/",
          "height": 1000,
          "referenced_widgets": [
            "6642cbccd4e843b29c67d0ce5b627f96",
            "0e60f82cf4b640f7a02c6046d2b51a07",
            "4334ae0215374759a752ce977042a5c2",
            "7f8dc41ce3d34d89996dd8df460d4a13",
            "e1c2e57b38a3490aa6fffa90f564568e",
            "d73ed83e781f456c922faacd6c6b87a1",
            "6e66bc40c36d4f1bbeb9ad0d4021c0d3",
            "2c7906952f3e4d20bba5035f2b243c10",
            "e3cc14b0b98a4cf0993704cd6e67003a",
            "dc8ac2a888ce4d7893bb0e42b3b01eeb",
            "7870e88ecec84768a357d2061b4373c3",
            "26821c51ae674e908abb59ee1a65e6c5",
            "a232208779bd4bf098f12afc0d3842e4",
            "abff44e8bbf04b7995ee65011e0af415",
            "9bbb8e0edf7e4e9da72f04b88f5ff089",
            "9579d6e976bc4c3f8e653c4b2db7535c",
            "de6ca83e03bb48749063aa6047448bb5",
            "84bce064615a4652a4ddd8918804929f",
            "ec6992582f484865933c607059dc854d",
            "7b5a9a96b88642689bc02ec964120dbe",
            "42af2de1e3cf448a986c80c402021175",
            "169ce8f6a8da4fcdb6e7931f53552a11"
          ]
        },
        "id": "BA2otA4I83EY",
        "outputId": "e500ae38-ebfc-4689-9535-29c7b3604e3e"
      },
      "outputs": [
        {
          "metadata": {
            "tags": null
          },
          "name": "stdout",
          "output_type": "stream",
          "text": [
            "Total Iterations of this thing is 1779\n"
          ]
        },
        {
          "data": {
            "application/vnd.jupyter.widget-view+json": {
              "model_id": "6642cbccd4e843b29c67d0ce5b627f96",
              "version_major": 2,
              "version_minor": 0
            },
            "text/plain": [
              "  0%|          | 0/1779 [00:00<?, ?it/s]"
            ]
          },
          "metadata": {},
          "output_type": "display_data"
        },
        {
          "metadata": {
            "tags": null
          },
          "name": "stdout",
          "output_type": "stream",
          "text": [
            "Doing Gradient Decent\n",
            "Loss Head1: 0.11070098727941513, Head2:0.11067565530538559 Iteration: 99\n",
            "NORM and Grad accum \n",
            "Doing Gradient Decent\n",
            "Loss Head1: 0.10941436886787415, Head2:0.10928649455308914 Iteration: 199\n",
            "NORM and Grad accum \n",
            "Doing Gradient Decent\n",
            "Loss Head1: 0.10776031017303467, Head2:0.10758788883686066 Iteration: 299\n",
            "NORM and Grad accum \n",
            "Doing Gradient Decent\n",
            "Loss Head1: 0.10541991889476776, Head2:0.10509032756090164 Iteration: 399\n",
            "NORM and Grad accum \n",
            "Doing Gradient Decent\n",
            "Loss Head1: 0.10192016512155533, Head2:0.10140807926654816 Iteration: 499\n",
            "NORM and Grad accum \n",
            "Doing Gradient Decent\n",
            "Loss Head1: 0.09667067974805832, Head2:0.0958615094423294 Iteration: 599\n",
            "NORM and Grad accum \n",
            "Doing Gradient Decent\n",
            "Loss Head1: 0.08884979039430618, Head2:0.08793334662914276 Iteration: 699\n",
            "NORM and Grad accum \n",
            "Doing Gradient Decent\n",
            "Loss Head1: 0.07955688238143921, Head2:0.07909255474805832 Iteration: 799\n",
            "NORM and Grad accum \n",
            "Doing Gradient Decent\n",
            "Loss Head1: 0.07836245000362396, Head2:0.08183246105909348 Iteration: 899\n",
            "NORM and Grad accum \n",
            "Doing Gradient Decent\n",
            "Loss Head1: 0.08848350495100021, Head2:0.09212338179349899 Iteration: 999\n",
            "NORM and Grad accum \n",
            "Doing Gradient Decent\n",
            "Loss Head1: 0.09141725301742554, Head2:0.09369718283414841 Iteration: 1099\n",
            "NORM and Grad accum \n",
            "Doing Gradient Decent\n",
            "Loss Head1: 0.0879543349146843, Head2:0.08896217495203018 Iteration: 1199\n",
            "NORM and Grad accum \n",
            "Doing Gradient Decent\n",
            "Loss Head1: 0.07731430977582932, Head2:0.07807384431362152 Iteration: 1299\n",
            "NORM and Grad accum \n",
            "Doing Gradient Decent\n",
            "Loss Head1: 0.06824810057878494, Head2:0.0701930895447731 Iteration: 1399\n",
            "NORM and Grad accum \n",
            "Doing Gradient Decent\n",
            "Loss Head1: 0.06809930503368378, Head2:0.0685117319226265 Iteration: 1499\n",
            "NORM and Grad accum \n",
            "Doing Gradient Decent\n",
            "Loss Head1: 0.06551752239465714, Head2:0.06400945782661438 Iteration: 1599\n",
            "NORM and Grad accum \n",
            "Doing Gradient Decent\n",
            "Loss Head1: 0.05874324589967728, Head2:0.05732051655650139 Iteration: 1699\n",
            "NORM and Grad accum \n",
            "fin starting over\n",
            "Doing Gradient Decent\n",
            "Loss Head1: 0.0584833137691021, Head2:0.05772876739501953 Iteration: 1778\n",
            "NORM and Grad accum \n"
          ]
        },
        {
          "data": {
            "application/vnd.jupyter.widget-view+json": {
              "model_id": "26821c51ae674e908abb59ee1a65e6c5",
              "version_major": 2,
              "version_minor": 0
            },
            "text/plain": [
              "  0%|          | 0/1779 [00:00<?, ?it/s]"
            ]
          },
          "metadata": {},
          "output_type": "display_data"
        },
        {
          "output_type": "stream",
          "name": "stdout",
          "text": [
            "Doing Gradient Decent\n",
            "Loss Head1: 0.058556973934173584, Head2:0.05817268416285515 Iteration: 99\n",
            "NORM and Grad accum \n",
            "Doing Gradient Decent\n",
            "Loss Head1: 0.05831199511885643, Head2:0.05818931385874748 Iteration: 199\n",
            "NORM and Grad accum \n",
            "Doing Gradient Decent\n",
            "Loss Head1: 0.054264143109321594, Head2:0.054347533732652664 Iteration: 299\n",
            "NORM and Grad accum \n",
            "Doing Gradient Decent\n",
            "Loss Head1: 0.054198913276195526, Head2:0.054152294993400574 Iteration: 399\n",
            "NORM and Grad accum \n",
            "Doing Gradient Decent\n",
            "Loss Head1: 0.052052419632673264, Head2:0.05192355811595917 Iteration: 499\n",
            "NORM and Grad accum \n",
            "Doing Gradient Decent\n",
            "Loss Head1: 0.0495176687836647, Head2:0.04955077916383743 Iteration: 599\n",
            "NORM and Grad accum \n",
            "Doing Gradient Decent\n",
            "Loss Head1: 0.046888332813978195, Head2:0.04674709215760231 Iteration: 699\n",
            "NORM and Grad accum \n",
            "Doing Gradient Decent\n",
            "Loss Head1: 0.0493708997964859, Head2:0.04896007478237152 Iteration: 799\n",
            "NORM and Grad accum \n",
            "Doing Gradient Decent\n",
            "Loss Head1: 0.045512255281209946, Head2:0.0448404885828495 Iteration: 899\n",
            "NORM and Grad accum \n",
            "Doing Gradient Decent\n",
            "Loss Head1: 0.0475386418402195, Head2:0.04656310752034187 Iteration: 999\n",
            "NORM and Grad accum \n",
            "Doing Gradient Decent\n",
            "Loss Head1: 0.04696490988135338, Head2:0.04645320773124695 Iteration: 1099\n",
            "NORM and Grad accum \n",
            "Doing Gradient Decent\n",
            "Loss Head1: 0.047590941190719604, Head2:0.04794353246688843 Iteration: 1199\n",
            "NORM and Grad accum \n",
            "Doing Gradient Decent\n",
            "Loss Head1: 0.046391066163778305, Head2:0.0467868410050869 Iteration: 1299\n",
            "NORM and Grad accum \n",
            "Doing Gradient Decent\n",
            "Loss Head1: 0.04583202302455902, Head2:0.046063534915447235 Iteration: 1399\n",
            "NORM and Grad accum \n",
            "Doing Gradient Decent\n",
            "Loss Head1: 0.04645274952054024, Head2:0.04631568863987923 Iteration: 1499\n",
            "NORM and Grad accum \n",
            "Doing Gradient Decent\n",
            "Loss Head1: 0.05078834295272827, Head2:0.0500827394425869 Iteration: 1599\n",
            "NORM and Grad accum \n",
            "Doing Gradient Decent\n",
            "Loss Head1: 0.04342563450336456, Head2:0.042594220489263535 Iteration: 1699\n",
            "NORM and Grad accum \n",
            "fin starting over\n",
            "Doing Gradient Decent\n",
            "Loss Head1: 0.047206535935401917, Head2:0.046161308884620667 Iteration: 1778\n",
            "NORM and Grad accum \n"
          ]
        }
      ],
      "source": [
        "with torch.autograd.set_detect_anomaly(True):\n",
        "  model.train()\n",
        "  losses=train_loop(model=model,optimizer=optimizer,train_loader=train_loader,n_tokens=n_tokens,device=\"cuda\",total_epochs=2)"
      ]
    },
    {
      "cell_type": "code",
      "source": [
        "10_00_0000000//(8*32_0000)"
      ],
      "metadata": {
        "colab": {
          "base_uri": "https://localhost:8080/"
        },
        "id": "x2Q_tuSxUQqz",
        "outputId": "d669e3e9-6e2e-4636-ed1b-c5cf8c5257e9"
      },
      "execution_count": null,
      "outputs": [
        {
          "output_type": "execute_result",
          "data": {
            "text/plain": [
              "3906"
            ]
          },
          "metadata": {},
          "execution_count": 4
        }
      ]
    },
    {
      "cell_type": "code",
      "source": [
        "torch.save(model.state_dict(),\"model_parametersfinal.pt\")"
      ],
      "metadata": {
        "id": "gGWXbV7tnGCa"
      },
      "execution_count": null,
      "outputs": []
    },
    {
      "cell_type": "markdown",
      "metadata": {
        "id": "w2BhWedcMlCC"
      },
      "source": [
        "## Implement Self speculative decoding"
      ]
    },
    {
      "cell_type": "code",
      "source": [
        "class LLM_Maybe(nn.Module):\n",
        "  def __init__(self,embedding_dimensions,embedding_layer,n_tokens=2,n_layers=8,mode=\"MHA\",group=2,attention_dropout=0.,num_heads=4,dim=768,device=\"cuda\"):\n",
        "\n",
        "    super().__init__()\n",
        "    self.dim=dim\n",
        "    self.n_layers=n_layers\n",
        "    self.num_heads=num_heads\n",
        "    self.n_tokens=n_tokens\n",
        "    self.embedding_dimensions=embedding_dimensions\n",
        "    self.embed_layer=embedding_layer.to(device)\n",
        "    self.device=device\n",
        "    self.blocks=nn.ModuleList([\n",
        "        Block(mode=mode,group=group,n_heads=num_heads,attention_dropout=0.,dim=dim,device=device) for _ in range(self.n_layers)\n",
        "    ])\n",
        "\n",
        "    self.independent_heads=nn.ModuleList(\n",
        "        [SHA(dim=dim,attention_dropout=attention_dropout) for _ in range(n_tokens)]\n",
        "    ).to(device)\n",
        "\n",
        "    self.un_embed_layer=nn.Linear(self.dim,embedding_dimensions,bias=False)\n",
        "    self.embed_layer.weight=self.un_embed_layer.weight\n",
        "\n",
        "    self.embed_layer.weight.data_ptr=self.un_embed_layer.weight.data_ptr\n",
        "\n",
        "    for i in self.embed_layer.parameters():\n",
        "      i.requires_grad=False\n",
        "\n",
        "    #self.un_embed_layer.requires_grad=False\n",
        "    self.apply(self._init_weights)\n",
        "\n",
        "  def _init_weights(self, module):\n",
        "        if isinstance(module, nn.Linear):\n",
        "            std = 0.02\n",
        "            std*=(2*self.n_layers) ** -0.5\n",
        "            torch.nn.init.normal_(module.weight, mean=0.0, std=std)\n",
        "            if module.bias is not None:\n",
        "                torch.nn.init.zeros_(module.bias)\n",
        "        elif isinstance(module,CLinear):\n",
        "            std = 0.02\n",
        "            std*=(2 * self.n_layers) ** -0.5\n",
        "            torch.nn.init.normal_(module.weights_1, mean=0.0, std=std)\n",
        "            torch.nn.init.normal_(module.weights_1, mean=0.0, std=std)\n",
        "            if module.bias is not None:\n",
        "                torch.nn.init.zeros_(module.bias)\n",
        "        \"\"\"elif isinstance(module, nn.Embedding):\n",
        "            torch.nn.init.normal_(module.weight, mean=0.0, std=0.02)\"\"\"\n",
        "\n",
        "  def forward_trunk(self,x):\n",
        "    x=self.embed_layer(x)\n",
        "\n",
        "    B,T,D=x.shape\n",
        "\n",
        "    x_pos=Sinusoidal_position_Emdedding(T,d_model=1024,device=self.device)\n",
        "\n",
        "    x = x + x_pos\n",
        "    y=x\n",
        "    for i in range(self.n_layers):\n",
        "      y=self.blocks[i](y)\n",
        "\n",
        "\n",
        "    return y\n",
        "\n",
        "\n",
        "\n",
        "  def fpass_independent_heads(self,head,x,y):\n",
        "    #B T D=X, B T V=p B T=Y\n",
        "\n",
        "    p=self.independent_heads[head](x)\n",
        "    p=self.un_embed_layer(p)\n",
        "\n",
        "    B,T,V=p.shape\n",
        "    return p,F.cross_entropy(p.view(-1,V),y.view(-1,))\n",
        "\n",
        "  def infer_independent_heads(self,x):\n",
        "    for head in range(self.n_tokens):\n",
        "      if head==0:\n",
        "        logits=self.independent_heads[head](x)[:,-1,:]\n",
        "        tokens=torch.argmax(logits,dim=-1)\n",
        "        tokens=tokens.unsqueeze(0)\n",
        "      else:\n",
        "        current_logit=self.independent_heads[head](x)[:,-1,:]\n",
        "        un_embed=self.un_embed_layer(current_logit)\n",
        "        current_tokens=torch.argmax(un_embed,dim=-1)\n",
        "        current_tokens=current_tokens.unsqueeze(0)\n",
        "        logits=torch.stack([logits,current_logit],dim=1) # B N D\n",
        "        tokens=torch.cat([tokens,current_tokens],dim=-1) # B T+N\n",
        "\n",
        "    return tokens,logits\n",
        "\n",
        "\n",
        "\n",
        "  def forward(self,x):\n",
        "    z=self.forward_trunk(x)\n",
        "    d=z.detach()\n",
        "    d.requires_grad=True\n",
        "    return d,z\n",
        "\n",
        "\n",
        "  #Evaluvate after backprop\n",
        "  def greedy_self_speculative_sampling(self,x,length,device):\n",
        "    T=length\n",
        "    n=x.shape[1]\n",
        "    while n<T:\n",
        "      with torch.autocast(device_type=device,dtype=torch.bfloat16):\n",
        "            logits_trunk,_=self.forward(x)\n",
        "\n",
        "      #predict n_tokens\n",
        "      tokens,logits=self.infer_independent_heads(logits_trunk)\n",
        "      logits=torch.cat([logits_trunk,logits],dim=1)\n",
        "      #verify on with first head\n",
        "      predict=self.independent_heads[0](\n",
        "          logits\n",
        "          )\n",
        "\n",
        "      first_head_logits = self.un_embed_layer(predict)\n",
        "      first_head_logits = first_head_logits[:,-tokens.shape[-1]:,:]\n",
        "\n",
        "      predict_token  = first_head_logits.argmax(dim=-1)\n",
        "      final_accepted = (tokens==predict_token).nonzero(as_tuple=True)\n",
        "\n",
        "\n",
        "      b,t=final_accepted\n",
        "\n",
        "      if b.shape[0]>0:\n",
        "\n",
        "        _,accepted_tokens=final_accepted\n",
        "\n",
        "        x=torch.cat([x,tokens[:,accepted_tokens.detach().tolist()[-1]].unsqueeze(0)],dim=-1)\n",
        "\n",
        "        print(accepted_tokens.detach().tolist()[-1],tokens, tokens[:,accepted_tokens.detach().tolist()[-1]])\n",
        "\n",
        "        n+=len(tokens[:,accepted_tokens.detach().tolist()[-1]])\n",
        "      else:\n",
        "        x=torch.cat([x,predict_token],dim=-1)\n",
        "        n+=predict_token.shape[-1]\n",
        "    return x\n",
        "\n",
        "  def sampling_on_one_head(self,x,length,top_k=5,device=\"cuda\"):\n",
        "    with torch.no_grad():\n",
        "      for i in range(length):\n",
        "        with torch.autocast(device_type=device,dtype=torch.bfloat16):\n",
        "            logits,_=model(x)\n",
        "\n",
        "        logits=self.independent_heads[0](logits)\n",
        "        logits = self.un_embed_layer(logits)\n",
        "        probs=torch.nn.functional.softmax(logits[:,-1,:],dim=-1)\n",
        "\n",
        "        topk_values,topk_indices = torch.topk(probs,5,dim=-1)\n",
        "        topk_values=topk_values.squeeze(0)\n",
        "        topk_indices=topk_indices.squeeze(0)\n",
        "\n",
        "        ix=torch.multinomial(topk_values,1)\n",
        "\n",
        "        xcol=torch.gather(topk_indices,-1,ix)\n",
        "\n",
        "        xcol=xcol.unsqueeze(0)\n",
        "        x=torch.cat([x,xcol],dim=1)\n",
        "      return x"
      ],
      "metadata": {
        "id": "CH7XyiaFwiYH"
      },
      "execution_count": null,
      "outputs": []
    },
    {
      "cell_type": "code",
      "source": [
        "def create_model_for_infer():\n",
        "  model=LLM_Maybe(embedding_layer=embedding_layer,embedding_dimensions=embedding_dimension,n_layers=3,dim=transformer_dimension,mode=\"GQA\",num_heads=16,group=2,n_tokens=2,device='cuda')\n",
        "  model.load_state_dict(torch.load(\"model_parametersfinal.pt\"))\n",
        "  model=model.cuda()\n",
        "  return model"
      ],
      "metadata": {
        "id": "x1y-An8OptKW"
      },
      "execution_count": null,
      "outputs": []
    },
    {
      "cell_type": "code",
      "source": [
        "model=create_model_for_infer()"
      ],
      "metadata": {
        "id": "Sich4ThS7xRr"
      },
      "execution_count": null,
      "outputs": []
    },
    {
      "cell_type": "code",
      "source": [
        "import numpy as np\n",
        "a=np.load('tokens.npy')"
      ],
      "metadata": {
        "id": "qsj2FijgQ4HN"
      },
      "execution_count": null,
      "outputs": []
    },
    {
      "cell_type": "code",
      "source": [
        "\n",
        "def decode_tokenize(x):\n",
        "  return tokenizer.decode(x)\n"
      ],
      "metadata": {
        "id": "HQcRyYiv8LoQ"
      },
      "execution_count": null,
      "outputs": []
    },
    {
      "cell_type": "markdown",
      "source": [
        "## Generate on one Head"
      ],
      "metadata": {
        "id": "HL3mgK9oFRI7"
      }
    },
    {
      "cell_type": "code",
      "source": [
        "a[0:50],decode_tokenize(a[0:60])"
      ],
      "metadata": {
        "colab": {
          "base_uri": "https://localhost:8080/"
        },
        "id": "0b2vzd01RFZA",
        "outputId": "c77b6434-7398-4a4d-94a0-8d229eca3684"
      },
      "execution_count": null,
      "outputs": [
        {
          "output_type": "execute_result",
          "data": {
            "text/plain": [
              "(array([   41, 63669, 59813, 59571, 59603, 59479, 59603, 59571, 59792,\n",
              "        59655, 60827, 59856, 60155, 59479, 13643,   986, 63669, 59603,\n",
              "        59571,    41, 60835, 60827, 59479, 59603, 59697, 59571, 60008,\n",
              "        59479, 60008, 59856, 59603,    41, 59601, 59856, 60008,    41,\n",
              "        59931,     1, 60155, 59479, 60155, 59603, 59479, 59603, 59571,\n",
              "        60008, 59479,    41, 59601, 60338], dtype=int32),\n",
              " 'ஆடித்திருநாள்\\\\nஆதி அந்தமில்லாத கால வ<unk> ள்ளத்தில் கற்பனை <unk>டத்த')"
            ]
          },
          "metadata": {},
          "execution_count": 99
        }
      ]
    },
    {
      "cell_type": "code",
      "source": [
        "model.eval()\n",
        "with torch.no_grad():\n",
        "  token_tensor=torch.tensor(a[0:50],dtype=torch.long).cuda()\n",
        "  token_tensor=token_tensor.view(1,-1)\n",
        "  tokens_outs=model.sampling_on_one_head(token_tensor,length=300,device=\"cuda\")\n"
      ],
      "metadata": {
        "id": "aud9-D7QEe-7"
      },
      "execution_count": null,
      "outputs": []
    },
    {
      "cell_type": "code",
      "source": [
        "#detach tensor\n",
        "text=decode_tokenize(tokens_outs[0].detach().tolist())"
      ],
      "metadata": {
        "id": "WxhVbq7TGFMe"
      },
      "execution_count": null,
      "outputs": []
    },
    {
      "cell_type": "code",
      "source": [
        "text"
      ],
      "metadata": {
        "colab": {
          "base_uri": "https://localhost:8080/",
          "height": 53
        },
        "id": "UHN6ibpKY7Nr",
        "outputId": "4779e06a-3f31-4a70-f760-d3f9457ab2b7"
      },
      "execution_count": null,
      "outputs": [
        {
          "output_type": "execute_result",
          "data": {
            "text/plain": [
              "'ஆடித்திருநாள்\\\\nஆதி அந்தமில்லாத கால வ<unk>ள்ளத்தில் கற்லது்த்்்தல்லு்்ி்ுிு்்்்்ு்்்ிு்்தத்்ிி்்ி்ித்்துல்த்்்ுலுு்்்்ுி்ி்்ி்்்ிலுிுி்ு்ல்்்த்்்ி்ல்ல்்ிிது்ிு்்்்்்்த்்்ி்்ு்து்்தத்ி்ிு்்ுத்லுி்தத்்ுலித்்ுதிது்்்ிிுத்்லி்்்்ுிதல்்ி்்்்த்்்ுல்்்ுல்ுி்்்ுிலலுிுதலு்்லி்்ு்ல்்்ல்்ி்த்்ு்்்்தத்ல்்்தல்்ுல்்்்்்ததலல்ுுலு்ு்்்்ி்்்ி்்்்்த்்ுு்த்்்்்ுலு்்லதல்்'"
            ],
            "application/vnd.google.colaboratory.intrinsic+json": {
              "type": "string"
            }
          },
          "metadata": {},
          "execution_count": 102
        }
      ]
    },
    {
      "cell_type": "code",
      "source": [
        "a[:50]"
      ],
      "metadata": {
        "colab": {
          "base_uri": "https://localhost:8080/"
        },
        "id": "LgAmpS4mZayS",
        "outputId": "75fa2890-c308-42c7-fdb8-7500b9c17d46"
      },
      "execution_count": null,
      "outputs": [
        {
          "output_type": "execute_result",
          "data": {
            "text/plain": [
              "array([   41, 63669, 59813, 59571, 59603, 59479, 59603, 59571, 59792,\n",
              "       59655, 60827, 59856, 60155, 59479, 13643,   986, 63669, 59603,\n",
              "       59571,    41, 60835, 60827, 59479, 59603, 59697, 59571, 60008,\n",
              "       59479, 60008, 59856, 59603,    41, 59601, 59856, 60008,    41,\n",
              "       59931,     1, 60155, 59479, 60155, 59603, 59479, 59603, 59571,\n",
              "       60008, 59479,    41, 59601, 60338], dtype=int32)"
            ]
          },
          "metadata": {},
          "execution_count": 103
        }
      ]
    },
    {
      "cell_type": "markdown",
      "source": [
        "## self speculative decoding"
      ],
      "metadata": {
        "id": "CQUNYJVTd6tc"
      }
    },
    {
      "cell_type": "markdown",
      "source": [
        "## Aint working much but here it shows POC"
      ],
      "metadata": {
        "id": "7FteuCuw698_"
      }
    },
    {
      "cell_type": "code",
      "source": [
        "model.eval()\n",
        "with torch.no_grad():\n",
        "  token_tensor=torch.tensor(a[0:50],dtype=torch.long).cuda()\n",
        "  token_tensor=token_tensor.view(1,-1)\n",
        "  tokens_out=model.greedy_self_speculative_sampling(token_tensor,length=100,device=\"cuda\")"
      ],
      "metadata": {
        "id": "9htA8HZ5iY-l",
        "colab": {
          "base_uri": "https://localhost:8080/"
        },
        "outputId": "cbaa98ec-9ae0-4698-8534-14299be3edfe"
      },
      "execution_count": null,
      "outputs": [
        {
          "output_type": "stream",
          "name": "stdout",
          "text": [
            "1 tensor([[ 1017, 59479]], device='cuda:0') tensor([59479], device='cuda:0')\n",
            "1 tensor([[ 1017, 59479]], device='cuda:0') tensor([59479], device='cuda:0')\n",
            "1 tensor([[ 1017, 59479]], device='cuda:0') tensor([59479], device='cuda:0')\n",
            "1 tensor([[ 1017, 59479]], device='cuda:0') tensor([59479], device='cuda:0')\n",
            "1 tensor([[ 1017, 59479]], device='cuda:0') tensor([59479], device='cuda:0')\n",
            "1 tensor([[ 1017, 59479]], device='cuda:0') tensor([59479], device='cuda:0')\n",
            "1 tensor([[ 1017, 59479]], device='cuda:0') tensor([59479], device='cuda:0')\n",
            "1 tensor([[ 1017, 59479]], device='cuda:0') tensor([59479], device='cuda:0')\n",
            "1 tensor([[ 1017, 59479]], device='cuda:0') tensor([59479], device='cuda:0')\n",
            "1 tensor([[ 1017, 59479]], device='cuda:0') tensor([59479], device='cuda:0')\n",
            "1 tensor([[ 1017, 59479]], device='cuda:0') tensor([59479], device='cuda:0')\n",
            "1 tensor([[ 1017, 59479]], device='cuda:0') tensor([59479], device='cuda:0')\n",
            "1 tensor([[ 1017, 59479]], device='cuda:0') tensor([59479], device='cuda:0')\n",
            "1 tensor([[ 1017, 59479]], device='cuda:0') tensor([59479], device='cuda:0')\n",
            "1 tensor([[ 1017, 59479]], device='cuda:0') tensor([59479], device='cuda:0')\n",
            "1 tensor([[ 1017, 59479]], device='cuda:0') tensor([59479], device='cuda:0')\n",
            "1 tensor([[ 1017, 59479]], device='cuda:0') tensor([59479], device='cuda:0')\n",
            "1 tensor([[ 1017, 59479]], device='cuda:0') tensor([59479], device='cuda:0')\n",
            "1 tensor([[ 1017, 59479]], device='cuda:0') tensor([59479], device='cuda:0')\n",
            "1 tensor([[ 1017, 59479]], device='cuda:0') tensor([59479], device='cuda:0')\n",
            "1 tensor([[ 1017, 59479]], device='cuda:0') tensor([59479], device='cuda:0')\n",
            "1 tensor([[ 1017, 59479]], device='cuda:0') tensor([59479], device='cuda:0')\n",
            "1 tensor([[ 1017, 59479]], device='cuda:0') tensor([59479], device='cuda:0')\n",
            "1 tensor([[ 1017, 59479]], device='cuda:0') tensor([59479], device='cuda:0')\n",
            "1 tensor([[ 1017, 59479]], device='cuda:0') tensor([59479], device='cuda:0')\n",
            "1 tensor([[ 1017, 59479]], device='cuda:0') tensor([59479], device='cuda:0')\n",
            "1 tensor([[ 1017, 59479]], device='cuda:0') tensor([59479], device='cuda:0')\n",
            "1 tensor([[ 1017, 59479]], device='cuda:0') tensor([59479], device='cuda:0')\n",
            "1 tensor([[ 1017, 59479]], device='cuda:0') tensor([59479], device='cuda:0')\n",
            "1 tensor([[ 1017, 59479]], device='cuda:0') tensor([59479], device='cuda:0')\n",
            "1 tensor([[ 1017, 59479]], device='cuda:0') tensor([59479], device='cuda:0')\n",
            "1 tensor([[ 1017, 59479]], device='cuda:0') tensor([59479], device='cuda:0')\n",
            "1 tensor([[ 1017, 59479]], device='cuda:0') tensor([59479], device='cuda:0')\n",
            "1 tensor([[ 1017, 59479]], device='cuda:0') tensor([59479], device='cuda:0')\n",
            "1 tensor([[ 1017, 59479]], device='cuda:0') tensor([59479], device='cuda:0')\n",
            "1 tensor([[ 1017, 59479]], device='cuda:0') tensor([59479], device='cuda:0')\n",
            "1 tensor([[ 1017, 59479]], device='cuda:0') tensor([59479], device='cuda:0')\n",
            "1 tensor([[ 1017, 59479]], device='cuda:0') tensor([59479], device='cuda:0')\n",
            "1 tensor([[ 1017, 59479]], device='cuda:0') tensor([59479], device='cuda:0')\n",
            "1 tensor([[ 1017, 59479]], device='cuda:0') tensor([59479], device='cuda:0')\n",
            "1 tensor([[ 1017, 59479]], device='cuda:0') tensor([59479], device='cuda:0')\n",
            "1 tensor([[ 1017, 59479]], device='cuda:0') tensor([59479], device='cuda:0')\n",
            "1 tensor([[ 1017, 59479]], device='cuda:0') tensor([59479], device='cuda:0')\n",
            "1 tensor([[ 1017, 59479]], device='cuda:0') tensor([59479], device='cuda:0')\n",
            "1 tensor([[ 1017, 59479]], device='cuda:0') tensor([59479], device='cuda:0')\n",
            "1 tensor([[ 1017, 59479]], device='cuda:0') tensor([59479], device='cuda:0')\n",
            "1 tensor([[ 1017, 59479]], device='cuda:0') tensor([59479], device='cuda:0')\n",
            "1 tensor([[ 1017, 59479]], device='cuda:0') tensor([59479], device='cuda:0')\n",
            "1 tensor([[ 1017, 59479]], device='cuda:0') tensor([59479], device='cuda:0')\n",
            "1 tensor([[ 1017, 59479]], device='cuda:0') tensor([59479], device='cuda:0')\n"
          ]
        }
      ]
    },
    {
      "cell_type": "code",
      "source": [
        "tokens_out[0]"
      ],
      "metadata": {
        "colab": {
          "base_uri": "https://localhost:8080/"
        },
        "id": "bEfBH4is7LY2",
        "outputId": "86603996-149a-4566-e7e9-485103bd5995"
      },
      "execution_count": null,
      "outputs": [
        {
          "output_type": "execute_result",
          "data": {
            "text/plain": [
              "tensor([   41, 63669, 59813, 59571, 59603, 59479, 59603, 59571, 59792, 59655,\n",
              "        60827, 59856, 60155, 59479, 13643,   986, 63669, 59603, 59571,    41,\n",
              "        60835, 60827, 59479, 59603, 59697, 59571, 60008, 59479, 60008, 59856,\n",
              "        59603,    41, 59601, 59856, 60008,    41, 59931,     1, 60155, 59479,\n",
              "        60155, 59603, 59479, 59603, 59571, 60008, 59479,    41, 59601, 60338,\n",
              "        59479, 59479, 59479, 59479, 59479, 59479, 59479, 59479, 59479, 59479,\n",
              "        59479, 59479, 59479, 59479, 59479, 59479, 59479, 59479, 59479, 59479,\n",
              "        59479, 59479, 59479, 59479, 59479, 59479, 59479, 59479, 59479, 59479,\n",
              "        59479, 59479, 59479, 59479, 59479, 59479, 59479, 59479, 59479, 59479,\n",
              "        59479, 59479, 59479, 59479, 59479, 59479, 59479, 59479, 59479, 59479],\n",
              "       device='cuda:0')"
            ]
          },
          "metadata": {},
          "execution_count": 114
        }
      ]
    },
    {
      "cell_type": "code",
      "source": [
        "decode_tokenize(tokens_out[0])"
      ],
      "metadata": {
        "colab": {
          "base_uri": "https://localhost:8080/",
          "height": 35
        },
        "id": "m8NzypKhTJGF",
        "outputId": "e47ea55e-90eb-4c87-b4e8-7653ac945e58"
      },
      "execution_count": null,
      "outputs": [
        {
          "output_type": "execute_result",
          "data": {
            "text/plain": [
              "'ஆடித்திருநாள்\\\\nஆதி அந்தமில்லாத கால வ<unk>ள்ளத்தில் கற்்்்்்்்்்்்்்்்்்்்்்்்்்்்்்்்்்்்்்்்்்்்்்்்்்'"
            ],
            "application/vnd.google.colaboratory.intrinsic+json": {
              "type": "string"
            }
          },
          "metadata": {},
          "execution_count": 115
        }
      ]
    },
    {
      "cell_type": "markdown",
      "source": [
        "## Things to Do from here on\n",
        "\n",
        "## 1 train our own BPE tokenizer on the targeted corpus\n",
        "## 2 Own embedding Layer to be trained\n",
        "## 3 Take Eval data and translate to our prefered language and back translate it and finally we can have our own native language LLM\n",
        "## 4 Train on Coding may be because it performs well at coding tasks\n"
      ],
      "metadata": {
        "id": "o9uPi0Vp9f5i"
      }
    },
    {
      "cell_type": "markdown",
      "source": [
        "## Any doubts Message me on discord @maddy, and email Madhavprasath088@gmail.com Thank you have a nice day"
      ],
      "metadata": {
        "id": "8q14J51L-IpK"
      }
    },
    {
      "cell_type": "code",
      "source": [],
      "metadata": {
        "id": "0HYixaH0-YiJ"
      },
      "execution_count": null,
      "outputs": []
    }
  ],
  "metadata": {
    "accelerator": "GPU",
    "colab": {
      "gpuType": "T4",
      "provenance": []
    },
    "kernelspec": {
      "display_name": "Python 3",
      "name": "python3"
    },
    "language_info": {
      "name": "python"
    },
    "widgets": {
      "application/vnd.jupyter.widget-state+json": {
        "6642cbccd4e843b29c67d0ce5b627f96": {
          "model_module": "@jupyter-widgets/controls",
          "model_name": "HBoxModel",
          "model_module_version": "1.5.0",
          "state": {
            "_dom_classes": [],
            "_model_module": "@jupyter-widgets/controls",
            "_model_module_version": "1.5.0",
            "_model_name": "HBoxModel",
            "_view_count": null,
            "_view_module": "@jupyter-widgets/controls",
            "_view_module_version": "1.5.0",
            "_view_name": "HBoxView",
            "box_style": "",
            "children": [
              "IPY_MODEL_0e60f82cf4b640f7a02c6046d2b51a07",
              "IPY_MODEL_4334ae0215374759a752ce977042a5c2",
              "IPY_MODEL_7f8dc41ce3d34d89996dd8df460d4a13"
            ],
            "layout": "IPY_MODEL_e1c2e57b38a3490aa6fffa90f564568e"
          }
        },
        "0e60f82cf4b640f7a02c6046d2b51a07": {
          "model_module": "@jupyter-widgets/controls",
          "model_name": "HTMLModel",
          "model_module_version": "1.5.0",
          "state": {
            "_dom_classes": [],
            "_model_module": "@jupyter-widgets/controls",
            "_model_module_version": "1.5.0",
            "_model_name": "HTMLModel",
            "_view_count": null,
            "_view_module": "@jupyter-widgets/controls",
            "_view_module_version": "1.5.0",
            "_view_name": "HTMLView",
            "description": "",
            "description_tooltip": null,
            "layout": "IPY_MODEL_d73ed83e781f456c922faacd6c6b87a1",
            "placeholder": "​",
            "style": "IPY_MODEL_6e66bc40c36d4f1bbeb9ad0d4021c0d3",
            "value": "100%"
          }
        },
        "4334ae0215374759a752ce977042a5c2": {
          "model_module": "@jupyter-widgets/controls",
          "model_name": "FloatProgressModel",
          "model_module_version": "1.5.0",
          "state": {
            "_dom_classes": [],
            "_model_module": "@jupyter-widgets/controls",
            "_model_module_version": "1.5.0",
            "_model_name": "FloatProgressModel",
            "_view_count": null,
            "_view_module": "@jupyter-widgets/controls",
            "_view_module_version": "1.5.0",
            "_view_name": "ProgressView",
            "bar_style": "success",
            "description": "",
            "description_tooltip": null,
            "layout": "IPY_MODEL_2c7906952f3e4d20bba5035f2b243c10",
            "max": 1779,
            "min": 0,
            "orientation": "horizontal",
            "style": "IPY_MODEL_e3cc14b0b98a4cf0993704cd6e67003a",
            "value": 1779
          }
        },
        "7f8dc41ce3d34d89996dd8df460d4a13": {
          "model_module": "@jupyter-widgets/controls",
          "model_name": "HTMLModel",
          "model_module_version": "1.5.0",
          "state": {
            "_dom_classes": [],
            "_model_module": "@jupyter-widgets/controls",
            "_model_module_version": "1.5.0",
            "_model_name": "HTMLModel",
            "_view_count": null,
            "_view_module": "@jupyter-widgets/controls",
            "_view_module_version": "1.5.0",
            "_view_name": "HTMLView",
            "description": "",
            "description_tooltip": null,
            "layout": "IPY_MODEL_dc8ac2a888ce4d7893bb0e42b3b01eeb",
            "placeholder": "​",
            "style": "IPY_MODEL_7870e88ecec84768a357d2061b4373c3",
            "value": " 1779/1779 [26:13&lt;00:00,  1.13it/s]"
          }
        },
        "e1c2e57b38a3490aa6fffa90f564568e": {
          "model_module": "@jupyter-widgets/base",
          "model_name": "LayoutModel",
          "model_module_version": "1.2.0",
          "state": {
            "_model_module": "@jupyter-widgets/base",
            "_model_module_version": "1.2.0",
            "_model_name": "LayoutModel",
            "_view_count": null,
            "_view_module": "@jupyter-widgets/base",
            "_view_module_version": "1.2.0",
            "_view_name": "LayoutView",
            "align_content": null,
            "align_items": null,
            "align_self": null,
            "border": null,
            "bottom": null,
            "display": null,
            "flex": null,
            "flex_flow": null,
            "grid_area": null,
            "grid_auto_columns": null,
            "grid_auto_flow": null,
            "grid_auto_rows": null,
            "grid_column": null,
            "grid_gap": null,
            "grid_row": null,
            "grid_template_areas": null,
            "grid_template_columns": null,
            "grid_template_rows": null,
            "height": null,
            "justify_content": null,
            "justify_items": null,
            "left": null,
            "margin": null,
            "max_height": null,
            "max_width": null,
            "min_height": null,
            "min_width": null,
            "object_fit": null,
            "object_position": null,
            "order": null,
            "overflow": null,
            "overflow_x": null,
            "overflow_y": null,
            "padding": null,
            "right": null,
            "top": null,
            "visibility": null,
            "width": null
          }
        },
        "d73ed83e781f456c922faacd6c6b87a1": {
          "model_module": "@jupyter-widgets/base",
          "model_name": "LayoutModel",
          "model_module_version": "1.2.0",
          "state": {
            "_model_module": "@jupyter-widgets/base",
            "_model_module_version": "1.2.0",
            "_model_name": "LayoutModel",
            "_view_count": null,
            "_view_module": "@jupyter-widgets/base",
            "_view_module_version": "1.2.0",
            "_view_name": "LayoutView",
            "align_content": null,
            "align_items": null,
            "align_self": null,
            "border": null,
            "bottom": null,
            "display": null,
            "flex": null,
            "flex_flow": null,
            "grid_area": null,
            "grid_auto_columns": null,
            "grid_auto_flow": null,
            "grid_auto_rows": null,
            "grid_column": null,
            "grid_gap": null,
            "grid_row": null,
            "grid_template_areas": null,
            "grid_template_columns": null,
            "grid_template_rows": null,
            "height": null,
            "justify_content": null,
            "justify_items": null,
            "left": null,
            "margin": null,
            "max_height": null,
            "max_width": null,
            "min_height": null,
            "min_width": null,
            "object_fit": null,
            "object_position": null,
            "order": null,
            "overflow": null,
            "overflow_x": null,
            "overflow_y": null,
            "padding": null,
            "right": null,
            "top": null,
            "visibility": null,
            "width": null
          }
        },
        "6e66bc40c36d4f1bbeb9ad0d4021c0d3": {
          "model_module": "@jupyter-widgets/controls",
          "model_name": "DescriptionStyleModel",
          "model_module_version": "1.5.0",
          "state": {
            "_model_module": "@jupyter-widgets/controls",
            "_model_module_version": "1.5.0",
            "_model_name": "DescriptionStyleModel",
            "_view_count": null,
            "_view_module": "@jupyter-widgets/base",
            "_view_module_version": "1.2.0",
            "_view_name": "StyleView",
            "description_width": ""
          }
        },
        "2c7906952f3e4d20bba5035f2b243c10": {
          "model_module": "@jupyter-widgets/base",
          "model_name": "LayoutModel",
          "model_module_version": "1.2.0",
          "state": {
            "_model_module": "@jupyter-widgets/base",
            "_model_module_version": "1.2.0",
            "_model_name": "LayoutModel",
            "_view_count": null,
            "_view_module": "@jupyter-widgets/base",
            "_view_module_version": "1.2.0",
            "_view_name": "LayoutView",
            "align_content": null,
            "align_items": null,
            "align_self": null,
            "border": null,
            "bottom": null,
            "display": null,
            "flex": null,
            "flex_flow": null,
            "grid_area": null,
            "grid_auto_columns": null,
            "grid_auto_flow": null,
            "grid_auto_rows": null,
            "grid_column": null,
            "grid_gap": null,
            "grid_row": null,
            "grid_template_areas": null,
            "grid_template_columns": null,
            "grid_template_rows": null,
            "height": null,
            "justify_content": null,
            "justify_items": null,
            "left": null,
            "margin": null,
            "max_height": null,
            "max_width": null,
            "min_height": null,
            "min_width": null,
            "object_fit": null,
            "object_position": null,
            "order": null,
            "overflow": null,
            "overflow_x": null,
            "overflow_y": null,
            "padding": null,
            "right": null,
            "top": null,
            "visibility": null,
            "width": null
          }
        },
        "e3cc14b0b98a4cf0993704cd6e67003a": {
          "model_module": "@jupyter-widgets/controls",
          "model_name": "ProgressStyleModel",
          "model_module_version": "1.5.0",
          "state": {
            "_model_module": "@jupyter-widgets/controls",
            "_model_module_version": "1.5.0",
            "_model_name": "ProgressStyleModel",
            "_view_count": null,
            "_view_module": "@jupyter-widgets/base",
            "_view_module_version": "1.2.0",
            "_view_name": "StyleView",
            "bar_color": null,
            "description_width": ""
          }
        },
        "dc8ac2a888ce4d7893bb0e42b3b01eeb": {
          "model_module": "@jupyter-widgets/base",
          "model_name": "LayoutModel",
          "model_module_version": "1.2.0",
          "state": {
            "_model_module": "@jupyter-widgets/base",
            "_model_module_version": "1.2.0",
            "_model_name": "LayoutModel",
            "_view_count": null,
            "_view_module": "@jupyter-widgets/base",
            "_view_module_version": "1.2.0",
            "_view_name": "LayoutView",
            "align_content": null,
            "align_items": null,
            "align_self": null,
            "border": null,
            "bottom": null,
            "display": null,
            "flex": null,
            "flex_flow": null,
            "grid_area": null,
            "grid_auto_columns": null,
            "grid_auto_flow": null,
            "grid_auto_rows": null,
            "grid_column": null,
            "grid_gap": null,
            "grid_row": null,
            "grid_template_areas": null,
            "grid_template_columns": null,
            "grid_template_rows": null,
            "height": null,
            "justify_content": null,
            "justify_items": null,
            "left": null,
            "margin": null,
            "max_height": null,
            "max_width": null,
            "min_height": null,
            "min_width": null,
            "object_fit": null,
            "object_position": null,
            "order": null,
            "overflow": null,
            "overflow_x": null,
            "overflow_y": null,
            "padding": null,
            "right": null,
            "top": null,
            "visibility": null,
            "width": null
          }
        },
        "7870e88ecec84768a357d2061b4373c3": {
          "model_module": "@jupyter-widgets/controls",
          "model_name": "DescriptionStyleModel",
          "model_module_version": "1.5.0",
          "state": {
            "_model_module": "@jupyter-widgets/controls",
            "_model_module_version": "1.5.0",
            "_model_name": "DescriptionStyleModel",
            "_view_count": null,
            "_view_module": "@jupyter-widgets/base",
            "_view_module_version": "1.2.0",
            "_view_name": "StyleView",
            "description_width": ""
          }
        },
        "26821c51ae674e908abb59ee1a65e6c5": {
          "model_module": "@jupyter-widgets/controls",
          "model_name": "HBoxModel",
          "model_module_version": "1.5.0",
          "state": {
            "_dom_classes": [],
            "_model_module": "@jupyter-widgets/controls",
            "_model_module_version": "1.5.0",
            "_model_name": "HBoxModel",
            "_view_count": null,
            "_view_module": "@jupyter-widgets/controls",
            "_view_module_version": "1.5.0",
            "_view_name": "HBoxView",
            "box_style": "",
            "children": [
              "IPY_MODEL_a232208779bd4bf098f12afc0d3842e4",
              "IPY_MODEL_abff44e8bbf04b7995ee65011e0af415",
              "IPY_MODEL_9bbb8e0edf7e4e9da72f04b88f5ff089"
            ],
            "layout": "IPY_MODEL_9579d6e976bc4c3f8e653c4b2db7535c"
          }
        },
        "a232208779bd4bf098f12afc0d3842e4": {
          "model_module": "@jupyter-widgets/controls",
          "model_name": "HTMLModel",
          "model_module_version": "1.5.0",
          "state": {
            "_dom_classes": [],
            "_model_module": "@jupyter-widgets/controls",
            "_model_module_version": "1.5.0",
            "_model_name": "HTMLModel",
            "_view_count": null,
            "_view_module": "@jupyter-widgets/controls",
            "_view_module_version": "1.5.0",
            "_view_name": "HTMLView",
            "description": "",
            "description_tooltip": null,
            "layout": "IPY_MODEL_de6ca83e03bb48749063aa6047448bb5",
            "placeholder": "​",
            "style": "IPY_MODEL_84bce064615a4652a4ddd8918804929f",
            "value": "100%"
          }
        },
        "abff44e8bbf04b7995ee65011e0af415": {
          "model_module": "@jupyter-widgets/controls",
          "model_name": "FloatProgressModel",
          "model_module_version": "1.5.0",
          "state": {
            "_dom_classes": [],
            "_model_module": "@jupyter-widgets/controls",
            "_model_module_version": "1.5.0",
            "_model_name": "FloatProgressModel",
            "_view_count": null,
            "_view_module": "@jupyter-widgets/controls",
            "_view_module_version": "1.5.0",
            "_view_name": "ProgressView",
            "bar_style": "success",
            "description": "",
            "description_tooltip": null,
            "layout": "IPY_MODEL_ec6992582f484865933c607059dc854d",
            "max": 1779,
            "min": 0,
            "orientation": "horizontal",
            "style": "IPY_MODEL_7b5a9a96b88642689bc02ec964120dbe",
            "value": 1779
          }
        },
        "9bbb8e0edf7e4e9da72f04b88f5ff089": {
          "model_module": "@jupyter-widgets/controls",
          "model_name": "HTMLModel",
          "model_module_version": "1.5.0",
          "state": {
            "_dom_classes": [],
            "_model_module": "@jupyter-widgets/controls",
            "_model_module_version": "1.5.0",
            "_model_name": "HTMLModel",
            "_view_count": null,
            "_view_module": "@jupyter-widgets/controls",
            "_view_module_version": "1.5.0",
            "_view_name": "HTMLView",
            "description": "",
            "description_tooltip": null,
            "layout": "IPY_MODEL_42af2de1e3cf448a986c80c402021175",
            "placeholder": "​",
            "style": "IPY_MODEL_169ce8f6a8da4fcdb6e7931f53552a11",
            "value": " 1779/1779 [26:06&lt;00:00,  1.14it/s]"
          }
        },
        "9579d6e976bc4c3f8e653c4b2db7535c": {
          "model_module": "@jupyter-widgets/base",
          "model_name": "LayoutModel",
          "model_module_version": "1.2.0",
          "state": {
            "_model_module": "@jupyter-widgets/base",
            "_model_module_version": "1.2.0",
            "_model_name": "LayoutModel",
            "_view_count": null,
            "_view_module": "@jupyter-widgets/base",
            "_view_module_version": "1.2.0",
            "_view_name": "LayoutView",
            "align_content": null,
            "align_items": null,
            "align_self": null,
            "border": null,
            "bottom": null,
            "display": null,
            "flex": null,
            "flex_flow": null,
            "grid_area": null,
            "grid_auto_columns": null,
            "grid_auto_flow": null,
            "grid_auto_rows": null,
            "grid_column": null,
            "grid_gap": null,
            "grid_row": null,
            "grid_template_areas": null,
            "grid_template_columns": null,
            "grid_template_rows": null,
            "height": null,
            "justify_content": null,
            "justify_items": null,
            "left": null,
            "margin": null,
            "max_height": null,
            "max_width": null,
            "min_height": null,
            "min_width": null,
            "object_fit": null,
            "object_position": null,
            "order": null,
            "overflow": null,
            "overflow_x": null,
            "overflow_y": null,
            "padding": null,
            "right": null,
            "top": null,
            "visibility": null,
            "width": null
          }
        },
        "de6ca83e03bb48749063aa6047448bb5": {
          "model_module": "@jupyter-widgets/base",
          "model_name": "LayoutModel",
          "model_module_version": "1.2.0",
          "state": {
            "_model_module": "@jupyter-widgets/base",
            "_model_module_version": "1.2.0",
            "_model_name": "LayoutModel",
            "_view_count": null,
            "_view_module": "@jupyter-widgets/base",
            "_view_module_version": "1.2.0",
            "_view_name": "LayoutView",
            "align_content": null,
            "align_items": null,
            "align_self": null,
            "border": null,
            "bottom": null,
            "display": null,
            "flex": null,
            "flex_flow": null,
            "grid_area": null,
            "grid_auto_columns": null,
            "grid_auto_flow": null,
            "grid_auto_rows": null,
            "grid_column": null,
            "grid_gap": null,
            "grid_row": null,
            "grid_template_areas": null,
            "grid_template_columns": null,
            "grid_template_rows": null,
            "height": null,
            "justify_content": null,
            "justify_items": null,
            "left": null,
            "margin": null,
            "max_height": null,
            "max_width": null,
            "min_height": null,
            "min_width": null,
            "object_fit": null,
            "object_position": null,
            "order": null,
            "overflow": null,
            "overflow_x": null,
            "overflow_y": null,
            "padding": null,
            "right": null,
            "top": null,
            "visibility": null,
            "width": null
          }
        },
        "84bce064615a4652a4ddd8918804929f": {
          "model_module": "@jupyter-widgets/controls",
          "model_name": "DescriptionStyleModel",
          "model_module_version": "1.5.0",
          "state": {
            "_model_module": "@jupyter-widgets/controls",
            "_model_module_version": "1.5.0",
            "_model_name": "DescriptionStyleModel",
            "_view_count": null,
            "_view_module": "@jupyter-widgets/base",
            "_view_module_version": "1.2.0",
            "_view_name": "StyleView",
            "description_width": ""
          }
        },
        "ec6992582f484865933c607059dc854d": {
          "model_module": "@jupyter-widgets/base",
          "model_name": "LayoutModel",
          "model_module_version": "1.2.0",
          "state": {
            "_model_module": "@jupyter-widgets/base",
            "_model_module_version": "1.2.0",
            "_model_name": "LayoutModel",
            "_view_count": null,
            "_view_module": "@jupyter-widgets/base",
            "_view_module_version": "1.2.0",
            "_view_name": "LayoutView",
            "align_content": null,
            "align_items": null,
            "align_self": null,
            "border": null,
            "bottom": null,
            "display": null,
            "flex": null,
            "flex_flow": null,
            "grid_area": null,
            "grid_auto_columns": null,
            "grid_auto_flow": null,
            "grid_auto_rows": null,
            "grid_column": null,
            "grid_gap": null,
            "grid_row": null,
            "grid_template_areas": null,
            "grid_template_columns": null,
            "grid_template_rows": null,
            "height": null,
            "justify_content": null,
            "justify_items": null,
            "left": null,
            "margin": null,
            "max_height": null,
            "max_width": null,
            "min_height": null,
            "min_width": null,
            "object_fit": null,
            "object_position": null,
            "order": null,
            "overflow": null,
            "overflow_x": null,
            "overflow_y": null,
            "padding": null,
            "right": null,
            "top": null,
            "visibility": null,
            "width": null
          }
        },
        "7b5a9a96b88642689bc02ec964120dbe": {
          "model_module": "@jupyter-widgets/controls",
          "model_name": "ProgressStyleModel",
          "model_module_version": "1.5.0",
          "state": {
            "_model_module": "@jupyter-widgets/controls",
            "_model_module_version": "1.5.0",
            "_model_name": "ProgressStyleModel",
            "_view_count": null,
            "_view_module": "@jupyter-widgets/base",
            "_view_module_version": "1.2.0",
            "_view_name": "StyleView",
            "bar_color": null,
            "description_width": ""
          }
        },
        "42af2de1e3cf448a986c80c402021175": {
          "model_module": "@jupyter-widgets/base",
          "model_name": "LayoutModel",
          "model_module_version": "1.2.0",
          "state": {
            "_model_module": "@jupyter-widgets/base",
            "_model_module_version": "1.2.0",
            "_model_name": "LayoutModel",
            "_view_count": null,
            "_view_module": "@jupyter-widgets/base",
            "_view_module_version": "1.2.0",
            "_view_name": "LayoutView",
            "align_content": null,
            "align_items": null,
            "align_self": null,
            "border": null,
            "bottom": null,
            "display": null,
            "flex": null,
            "flex_flow": null,
            "grid_area": null,
            "grid_auto_columns": null,
            "grid_auto_flow": null,
            "grid_auto_rows": null,
            "grid_column": null,
            "grid_gap": null,
            "grid_row": null,
            "grid_template_areas": null,
            "grid_template_columns": null,
            "grid_template_rows": null,
            "height": null,
            "justify_content": null,
            "justify_items": null,
            "left": null,
            "margin": null,
            "max_height": null,
            "max_width": null,
            "min_height": null,
            "min_width": null,
            "object_fit": null,
            "object_position": null,
            "order": null,
            "overflow": null,
            "overflow_x": null,
            "overflow_y": null,
            "padding": null,
            "right": null,
            "top": null,
            "visibility": null,
            "width": null
          }
        },
        "169ce8f6a8da4fcdb6e7931f53552a11": {
          "model_module": "@jupyter-widgets/controls",
          "model_name": "DescriptionStyleModel",
          "model_module_version": "1.5.0",
          "state": {
            "_model_module": "@jupyter-widgets/controls",
            "_model_module_version": "1.5.0",
            "_model_name": "DescriptionStyleModel",
            "_view_count": null,
            "_view_module": "@jupyter-widgets/base",
            "_view_module_version": "1.2.0",
            "_view_name": "StyleView",
            "description_width": ""
          }
        }
      }
    }
  },
  "nbformat": 4,
  "nbformat_minor": 0
}